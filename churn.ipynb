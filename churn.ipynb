{
 "cells": [
  {
   "cell_type": "code",
   "execution_count": null,
   "metadata": {},
   "outputs": [],
   "source": [
    "import pandas as pd\n",
    "import numpy as np\n",
    "import math\n",
    "import re\n",
    "import matplotlib.pyplot as plt\n",
    "import seaborn as sns\n",
    "from sklearn.dummy import DummyClassifier\n",
    "from sklearn.preprocessing import StandardScaler\n",
    "from sklearn.model_selection import train_test_split, GridSearchCV, RepeatedStratifiedKFold\n",
    "from sklearn.metrics import accuracy_score, roc_auc_score\n",
    "from sklearn.ensemble import RandomForestClassifier, BaggingClassifier, GradientBoostingClassifier\n",
    "from sklearn.linear_model import Lasso, LogisticRegression, RidgeClassifier, Ridge\n",
    "from sklearn.feature_selection import RFE\n",
    "from sklearn.neural_network import MLPClassifier\n",
    "from sklearn.svm import SVC\n",
    "from imblearn.over_sampling import RandomOverSampler, BorderlineSMOTE, SMOTE\n",
    "from imblearn.ensemble import BalancedRandomForestClassifier\n",
    "#import xgboost as xgb"
   ]
  },
  {
   "cell_type": "code",
   "execution_count": null,
   "metadata": {},
   "outputs": [],
   "source": [
    "pd.options.display.max_rows = 150\n",
    "pd.options.display.max_columns = 150"
   ]
  },
  {
   "cell_type": "code",
   "execution_count": null,
   "metadata": {},
   "outputs": [],
   "source": [
    "df = pd.read_csv('data/bank_data_train.zip', compression='zip')"
   ]
  },
  {
   "cell_type": "code",
   "execution_count": null,
   "metadata": {},
   "outputs": [],
   "source": [
    "df.describe()"
   ]
  },
  {
   "cell_type": "code",
   "execution_count": null,
   "metadata": {},
   "outputs": [],
   "source": [
    "cols_to_log = ['REST_AVG_CUR', 'TURNOVER_CC', 'TURNOVER_PAYM', 'REST_AVG_PAYM', 'LDEAL_AMT_MONTH', 'CLNT_SALARY_VALUE']\n",
    "df[cols_to_log].describe()\n",
    "for i in cols_to_log:\n",
    "    df[i] = df[i].apply(lambda x: np.log(x + 1))\n",
    "df[cols_to_log].describe()"
   ]
  },
  {
   "cell_type": "code",
   "execution_count": null,
   "metadata": {},
   "outputs": [],
   "source": [
    "df[cols_to_log].hist(figsize=(20,7));"
   ]
  },
  {
   "cell_type": "code",
   "execution_count": null,
   "metadata": {},
   "outputs": [],
   "source": [
    "df[cols_to_log].hist(figsize=(20,7));"
   ]
  },
  {
   "cell_type": "code",
   "execution_count": null,
   "metadata": {},
   "outputs": [],
   "source": [
    "df.set_index('ID', inplace=True)\n",
    "df.drop_duplicates(inplace=True)\n",
    "df.head()"
   ]
  },
  {
   "cell_type": "code",
   "execution_count": null,
   "metadata": {
    "scrolled": true
   },
   "outputs": [],
   "source": [
    "binary = ['CNT_ACCEPTS_TK', 'PRC_ACCEPTS_A_MTP', 'PRC_ACCEPTS_A_AMOBILE', 'PRC_ACCEPTS_A_ATM', 'PRC_ACCEPTS_A_TK', \n",
    "          'PRC_ACCEPTS_A_EMAIL_LINK', 'PRC_ACCEPTS_MTP', 'PRC_ACCEPTS_A_POS', 'CNT_ACCEPTS_MTP']#, 'PRC_ACCEPTS_TK']\n",
    "df['PRC_ACCEPTS_TK'] = df['PRC_ACCEPTS_TK'].fillna(1).astype(int)\n",
    "df.drop(binary, axis=1, inplace=True)"
   ]
  },
  {
   "cell_type": "code",
   "execution_count": null,
   "metadata": {},
   "outputs": [],
   "source": [
    "df_not_null = df.notnull().sum().div(len(df)).sort_values(0, ascending=False)\n",
    "df_not_null.plot(kind='bar', figsize=(20,5), title='Features with not null values');"
   ]
  },
  {
   "cell_type": "code",
   "execution_count": null,
   "metadata": {},
   "outputs": [],
   "source": [
    "#df_not_null = pd.DataFrame(df_not_null, columns=['not_null'])\n",
    "#features_drop = list(df_not_null[df_not_null['not_null'] < 0.1].index)\n",
    "#df.drop(features_drop, axis=1, inplace=True)\n",
    "#df.fillna(df.mean(), inplace=True)"
   ]
  },
  {
   "cell_type": "code",
   "execution_count": null,
   "metadata": {},
   "outputs": [],
   "source": [
    "to_int = ['APP_REGISTR_RGN_CODE']\n",
    "df[to_int] = df[to_int].fillna(-1).astype(int)"
   ]
  },
  {
   "cell_type": "code",
   "execution_count": null,
   "metadata": {},
   "outputs": [],
   "source": [
    "category = ['APP_CAR', 'CLNT_JOB_POSITION_TYPE', 'APP_EMP_TYPE', 'APP_TRAVEL_PASS', 'APP_KIND_OF_PROP_HABITATION', \n",
    "            'APP_DRIVING_LICENSE', 'APP_POSITION_TYPE', 'APP_MARITAL_STATUS', 'APP_EDUCATION', 'CLNT_JOB_POSITION', \n",
    "            'CLNT_TRUST_RELATION', 'APP_REGISTR_RGN_CODE', 'APP_COMP_TYPE', 'PACK', 'TARGET']\n",
    "df[category] = df[category].astype(str).fillna('NULL')\n",
    "relations = {'мать': 'mother', 'отец': 'father', 'сын': 'son', 'сестра': 'sister', 'брат': 'brother', 'дочь': 'daughter',\n",
    "             'друг': 'friend', 'жена': 'relative', 'муж': 'relative', 'близкий ро': 'relative', 'дальний ро': 'other'}\n",
    "\n",
    "df['CLNT_TRUST_RELATION'] = df['CLNT_TRUST_RELATION'].apply(lambda x: x.lower())\n",
    "df['CLNT_TRUST_RELATION'] = df['CLNT_TRUST_RELATION'].replace(relations)\n",
    "for i in df[category]:\n",
    "    df[i] = df[i].str.upper()\n",
    "#df.drop(, axis=1, inplace=True) ######## drop job"
   ]
  },
  {
   "cell_type": "code",
   "execution_count": null,
   "metadata": {},
   "outputs": [],
   "source": [
    "job_list = {'ЗАМЕСТИТЕЛЬ': 'ЗАМ. ', 'ЗАМ ': 'ЗАМ. ', 'ГЕНЕРАЛЬНЫЙ': 'ГЕН. ', 'ГЕНЕРАЛЬНОГО': 'ГЕН. ', 'ГЕН ': 'ГЕН. ', \n",
    "       'ПРОГРАМИСТ': 'ПРОГРАММИСТ', 'ГЛ.': 'ГЛАВНЫЙ ', 'КОМЕРЧЕСКИЙ': 'КОМ.', 'КОММЕРЧЕСКИЙ': 'КОМ.', \n",
    "       'ИНДИВИДУАЛЬНЫЙ ПРЕДПРИНИМАТЕЛЬ': 'ИП'}\n",
    "\n",
    "def replace_job(job):\n",
    "    for k, v in job_list.items():\n",
    "        job = job.replace(k, v)\n",
    "    return job"
   ]
  },
  {
   "cell_type": "code",
   "execution_count": null,
   "metadata": {},
   "outputs": [],
   "source": [
    "df['CLNT_JOB_POSITION'] = df['CLNT_JOB_POSITION'].apply(lambda x: replace_job(x))\n",
    "df['CLNT_JOB_POSITION'] = df['CLNT_JOB_POSITION'].apply(lambda x: re.sub(r'\\s+', ' ', str(x).replace('.', '. ')).strip())"
   ]
  },
  {
   "cell_type": "code",
   "execution_count": null,
   "metadata": {},
   "outputs": [],
   "source": [
    "top = df['CLNT_JOB_POSITION'].value_counts().reset_index().head(100)['index'].values\n",
    "df['CLNT_JOB_POSITION'] = df['CLNT_JOB_POSITION'].apply(lambda x: x if x in top else \"ПРОЧЕЕ\").value_counts()"
   ]
  },
  {
   "cell_type": "raw",
   "metadata": {},
   "source": [
    "feat_0_1 = ['LDEAL_DELINQ_PER_MAXYWZ', 'LDEAL_DELINQ_PER_MAXYQZ', 'MED_DEBT_PRC_YQZ']\n",
    "df[feat_0_1] = df[feat_0_1].fillna(-1)"
   ]
  },
  {
   "cell_type": "code",
   "execution_count": null,
   "metadata": {},
   "outputs": [],
   "source": [
    "cnt_prod = ['CR_PROD_CNT_CC','CR_PROD_CNT_CCFP','CR_PROD_CNT_IL','CR_PROD_CNT_PIL','CR_PROD_CNT_TOVR','CR_PROD_CNT_VCU']"
   ]
  },
  {
   "cell_type": "raw",
   "metadata": {},
   "source": [
    "continuous = list(set(df.columns) - set(binary) - set(category) - set(feat_0_1) - set(cnt_prod) - set(to_int))\n",
    "len(continuous)"
   ]
  },
  {
   "cell_type": "raw",
   "metadata": {},
   "source": [
    "plt.figure(figsize=(15, 10))\n",
    "sns.heatmap(cor)"
   ]
  },
  {
   "cell_type": "raw",
   "metadata": {},
   "source": [
    "df['LDEAL_TENOR_AVG'] = (df['LDEAL_TENOR_MIN'] + df['LDEAL_TENOR_MAX']) /2\n",
    "df['DEAL_YQZ_IR_AVG'] = (df['DEAL_YQZ_IR_MIN'] + df['DEAL_YQZ_IR_MAX']) /2\n",
    "df['DEAL_YWZ_IR_AVG'] = (df['DEAL_YWZ_IR_MIN'] + df['DEAL_YWZ_IR_MAX']) /2"
   ]
  },
  {
   "cell_type": "raw",
   "metadata": {},
   "source": [
    "corr_features = ['LDEAL_ACT_DAYS_PCT_TR3', 'LDEAL_ACT_DAYS_PCT_TR4', 'LDEAL_ACT_DAYS_PCT_TR', 'DEAL_GRACE_DAYS_ACC_AVG',\n",
    "                'CNT_TRAN_AUT_TENDENCY1M', 'CNT_TRAN_SUP_TENDENCY1M', 'CNT_TRAN_AUT_TENDENCY3M', 'CNT_TRAN_CLO_TENDENCY1M',\n",
    "                'CNT_TRAN_SUP_TENDENCY3M', 'CNT_TRAN_CLO_TENDENCY3M', 'CNT_TRAN_MED_TENDENCY1M', 'CNT_TRAN_ATM_TENDENCY1M',\n",
    "                'CNT_TRAN_MED_TENDENCY3M', 'LDEAL_TENOR_MIN', 'LDEAL_TENOR_MAX', 'DEAL_YQZ_IR_MIN', 'DEAL_YQZ_IR_MAX', \n",
    "                 'DEAL_YWZ_IR_MIN', 'DEAL_YWZ_IR_MAX', 'CLNT_SALARY_VALUE', 'DEAL_GRACE_DAYS_ACC_MAX', \n",
    "                 'CNT_TRAN_ATM_TENDENCY3M', 'SUM_TRAN_ATM_TENDENCY3M', 'LDEAL_DELINQ_PER_MAXYQZ', 'LDEAL_DELINQ_PER_MAXYWZ',\n",
    "                'LDEAL_ACT_DAYS_PCT_CURR', 'AVG_PCT_DEBT_TO_DEAL_AMT', 'TRANS_CNT_TENDENCY3M', 'TURNOVER_DYNAMIC_PAYM_3M', \n",
    "                'TURNOVER_DYNAMIC_CUR_1M', 'TURNOVER_DYNAMIC_CUR_3M', 'TURNOVER_DYNAMIC_PAYM_1M',\n",
    "                 'TRANS_COUNT_ATM_PRC', 'REST_DYNAMIC_IL_3M', 'REST_DYNAMIC_PAYM_3M', 'LDEAL_USED_AMT_AVG_YWZ',\n",
    "                'REST_DYNAMIC_CC_1M', 'REST_DYNAMIC_CUR_3M', 'REST_DYNAMIC_FDEP_1M', 'TRANS_COUNT_NAS_PRC', \n",
    "                 'TRANS_COUNT_SUP_PRC', 'SUM_TRAN_CLO_TENDENCY1M', 'SUM_TRAN_AUT_TENDENCY3M', \n",
    "                'SUM_TRAN_SUP_TENDENCY3M', 'SUM_TRAN_MED_TENDENCY3M', 'TURNOVER_DYNAMIC_IL_1M']"
   ]
  },
  {
   "cell_type": "raw",
   "metadata": {},
   "source": [
    "cor = np.abs(df.drop(corr_features, axis=1).corr())\n",
    "for i,row in cor.iterrows():\n",
    "    row[i] = -0.0"
   ]
  },
  {
   "cell_type": "raw",
   "metadata": {},
   "source": [
    "corr = pd.DataFrame(cor.idxmax(), columns={'feature'})\n",
    "corr['value'] = cor.max(axis=1)\n",
    "perc = pd.DataFrame(df.notnull().sum().div(df.shape[0]), columns={'perc'})\n",
    "corr = corr.merge(perc, left_on=corr.index, right_on=perc.index)\n",
    "corr.columns = ['feat_1', 'feat_2', 'value', 'perc']\n",
    "corr = corr.merge(perc, left_on=corr.feat_2, right_on=perc.index).drop('key_0', axis=1)\n",
    "corr.sort_values(['value', 'perc_x'], ascending=False, inplace=True)\n",
    "corr['eq'] = corr['perc_x'] == corr['perc_y']"
   ]
  },
  {
   "cell_type": "raw",
   "metadata": {},
   "source": [
    "corr[(corr['value'] > 0.8)]"
   ]
  },
  {
   "cell_type": "raw",
   "metadata": {},
   "source": [
    "corr.shape"
   ]
  },
  {
   "cell_type": "raw",
   "metadata": {},
   "source": [
    "corr[corr['feat_1'] =='TARGET']"
   ]
  },
  {
   "cell_type": "raw",
   "metadata": {},
   "source": [
    "set(corr['feat_1'].values) - set(corr['feat_2'].values)"
   ]
  },
  {
   "cell_type": "code",
   "execution_count": null,
   "metadata": {},
   "outputs": [],
   "source": [
    "df.shape"
   ]
  },
  {
   "cell_type": "markdown",
   "metadata": {},
   "source": [
    "df.drop(corr_features, axis=1, inplace=True, errors='ignore')"
   ]
  },
  {
   "cell_type": "raw",
   "metadata": {},
   "source": [
    "df[to_int].hist(figsize=(20,7))"
   ]
  },
  {
   "cell_type": "code",
   "execution_count": null,
   "metadata": {},
   "outputs": [],
   "source": [
    "df['TARGET'].value_counts().plot(kind='barh')"
   ]
  },
  {
   "cell_type": "raw",
   "metadata": {},
   "source": [
    "features_drop"
   ]
  },
  {
   "cell_type": "code",
   "execution_count": null,
   "metadata": {},
   "outputs": [],
   "source": [
    "na_avg = ['DEAL_YQZ_IR_MAX', 'DEAL_YQZ_IR_MIN', 'DEAL_YWZ_IR_MAX', 'DEAL_YWZ_IR_MIN']"
   ]
  },
  {
   "cell_type": "code",
   "execution_count": null,
   "metadata": {},
   "outputs": [],
   "source": [
    "%%time\n",
    "for i in df.columns:\n",
    "    #df[i] = df[i].astype(np.float32)\n",
    "    if df[i].isnull().any():\n",
    "        if str(df[i].values.dtype) == 'float64':\n",
    "            if i in na_avg:\n",
    "                df[i].fillna(df[i].median(), inplace=True)\n",
    "            else:\n",
    "                 df[i].fillna(0, inplace=True)\n",
    "                #df['ZERO_' + i] = df[i].fillna(0)\n",
    "        else:\n",
    "            print(i)\n",
    "        #df.drop(i, axis=1, inplace=True)"
   ]
  },
  {
   "cell_type": "code",
   "execution_count": null,
   "metadata": {},
   "outputs": [],
   "source": [
    "with_null = pd.DataFrame(df.isnull().any(), columns={'null'})"
   ]
  },
  {
   "cell_type": "code",
   "execution_count": null,
   "metadata": {},
   "outputs": [],
   "source": [
    "col = sorted(with_null[with_null['null']].index)"
   ]
  },
  {
   "cell_type": "raw",
   "metadata": {},
   "source": [
    "sorted(list(set(col) - set(na_zero)))"
   ]
  },
  {
   "cell_type": "raw",
   "metadata": {},
   "source": [
    "for i in df[sorted(list(set(col) - set(na_zero)))]: \n",
    "    display(pd.DataFrame(df[i].value_counts(dropna=False)))"
   ]
  },
  {
   "cell_type": "code",
   "execution_count": null,
   "metadata": {},
   "outputs": [],
   "source": [
    "df[col].min()"
   ]
  },
  {
   "cell_type": "code",
   "execution_count": null,
   "metadata": {},
   "outputs": [],
   "source": [
    "set(df[col].min().index)"
   ]
  },
  {
   "cell_type": "raw",
   "metadata": {},
   "source": [
    "na_zero = ['AMOUNT_RUB_ATM_PRC', 'AMOUNT_RUB_CLO_PRC', 'AMOUNT_RUB_NAS_PRC', 'AMOUNT_RUB_SUP_PRC', \n",
    "            'AVG_PCT_MONTH_TO_PCLOSE', 'DEAL_GRACE_DAYS_ACC_S1X1',\n",
    "            'LDEAL_ACT_DAYS_PCT_AAVG', 'MAX_PCLOSE_DATE', 'LDEAL_ACT_DAYS_ACC_PCT_AVG', 'LDEAL_USED_AMT_AVG_YWZ', 'MED_DEBT_PRC_YWZ',\n",
    "             'SUM_TRAN_ATM_TENDENCY1M', 'SUM_TRAN_AUT_TENDENCY1M', 'SUM_TRAN_AUT_TENDENCY3M', 'SUM_TRAN_CLO_TENDENCY1M',\n",
    "             'SUM_TRAN_CLO_TENDENCY3M', 'SUM_TRAN_MED_TENDENCY1M', 'SUM_TRAN_MED_TENDENCY3M', 'SUM_TRAN_SUP_TENDENCY1M',\n",
    "             'SUM_TRAN_SUP_TENDENCY3M', 'TRANS_AMOUNT_TENDENCY3M', 'TRANS_COUNT_NAS_PRC', 'TRANS_COUNT_SUP_PRC']"
   ]
  },
  {
   "cell_type": "code",
   "execution_count": null,
   "metadata": {},
   "outputs": [],
   "source": []
  },
  {
   "cell_type": "code",
   "execution_count": null,
   "metadata": {},
   "outputs": [],
   "source": [
    "df.describe()"
   ]
  },
  {
   "cell_type": "raw",
   "metadata": {},
   "source": [
    "%%time\n",
    "col = []\n",
    "for i in df.columns:\n",
    "    if i != 'TARGET' and i != 'ID':\n",
    "        if str(df[i].values.dtype) == 'int64' or str(df[i].values.dtype) == 'float64':\n",
    "            plt.figure(figsize=(20,5))\n",
    "            plt.title(i)\n",
    "            sns.boxplot(y=df['TARGET'].values, x=df[i].values, orient='h');\n",
    "            plt.show()\n",
    "        else:\n",
    "            col.append(i)"
   ]
  },
  {
   "cell_type": "raw",
   "metadata": {},
   "source": [
    "def plot_pie(df, column):\n",
    "    i = column\n",
    "    t_0 = df[df['TARGET'] == 0]\n",
    "    t_1 = df[df['TARGET'] == 1]\n",
    "    fig, (ax1, ax2) = plt.subplots(1, 2, figsize=(20,7))\n",
    "    fig.suptitle(i, fontsize=16)\n",
    "    params=t_0[i].dropna().value_counts()\n",
    "    ax1.pie(list(params.values), labels=list(params.keys()));\n",
    "    ax1.set_title('Target = 0')\n",
    "    params=t_1[i].dropna().value_counts()\n",
    "    ax2.pie(list(params.values), labels=list(params.keys()));\n",
    "    ax2.set_title('Target = 1')\n",
    "    plt.show()"
   ]
  },
  {
   "cell_type": "raw",
   "metadata": {},
   "source": [
    "for i in col:\n",
    "    plot_pie(df, i)"
   ]
  },
  {
   "cell_type": "raw",
   "metadata": {},
   "source": [
    "%%time\n",
    "df = pd.get_dummies(df[category])#.drop(not_imp, axis=1).drop('CLNT_JOB_POSITION', axis=1))#.drop(category, axis=1))\n",
    "df.shape"
   ]
  },
  {
   "cell_type": "raw",
   "metadata": {},
   "source": [
    "#not_important = ['TURNOVER_DYNAMIC_IL_3M', 'TURNOVER_DYNAMIC_CC_3M', 'TURNOVER_DYNAMIC_CC_1M']"
   ]
  },
  {
   "cell_type": "raw",
   "metadata": {},
   "source": [
    "%%time\n",
    "dummy_clf = DummyClassifier(strategy=\"most_frequent\")\n",
    "dummy_clf.fit(X, y)\n",
    "roc_auc_score(y, dummy_clf.predict(X)), accuracy_score(y, dummy_clf.predict(X))"
   ]
  },
  {
   "cell_type": "raw",
   "metadata": {},
   "source": [
    "X_train.shape"
   ]
  },
  {
   "cell_type": "raw",
   "metadata": {},
   "source": [
    "%%time\n",
    "lasso = Lasso()\n",
    "lasso.fit(X_train, y_train)\n",
    "roc_auc_score(y_test, lasso.predict(X_test))"
   ]
  },
  {
   "cell_type": "raw",
   "metadata": {},
   "source": [
    "lr = LogisticRegression()\n",
    "lr.fit(X_train, y_train)\n",
    "roc_auc_score(y_test, lr.predict(X_test))"
   ]
  },
  {
   "cell_type": "raw",
   "metadata": {},
   "source": [
    "%%time\n",
    "ridge = Ridge()\n",
    "ridge.fit(X_train, y_train)\n",
    "roc_auc_score(y_test, ridge.predict(X_test))"
   ]
  },
  {
   "cell_type": "raw",
   "metadata": {},
   "source": [
    "%%time\n",
    "ridge = RidgeClassifier()\n",
    "ridge.fit(X_train, y_train)\n",
    "roc_auc_score(y_test, ridge.predict(X_test))"
   ]
  },
  {
   "cell_type": "raw",
   "metadata": {},
   "source": [
    "%%time\n",
    "rf = RandomForestClassifier(n_estimators=100, max_depth=10, class_weight='balanced_subsample', n_jobs=-1, random_state=42,\n",
    "                           min_samples_leaf=7, min_samples_split=2)\n",
    "rf.fit(X, y)\n",
    "roc_auc_score(y_test, rf.predict(X_test)) #с категориями 0.7350054967692998"
   ]
  },
  {
   "cell_type": "code",
   "execution_count": null,
   "metadata": {},
   "outputs": [],
   "source": [
    "not_imp = ['AMOUNT_RUB_CLO_PRC', 'AMOUNT_RUB_SUP_PRC', 'APP_CAR', 'APP_COMP_TYPE', 'APP_EDUCATION', 'APP_EMP_TYPE', \n",
    "           'APP_KIND_OF_PROP_HABITATION', 'APP_MARITAL_STATUS', 'APP_POSITION_TYPE', 'APP_REGISTR_RGN_CODE', \n",
    "           'APP_TRAVEL_PASS',  'AVG_PCT_MONTH_TO_PCLOSE', 'CLNT_JOB_POSITION_TYPE', 'CLNT_JOB_POSITION',\n",
    "           'CLNT_SALARY_VALUE', 'CLNT_SETUP_TENOR', 'CLNT_TRUST_RELATION', 'CNT_TRAN_ATM_TENDENCY1M', \n",
    "           \n",
    "           'CNT_TRAN_CLO_TENDENCY3M', 'TURNOVER_DYNAMIC_CC_3M', 'CNT_TRAN_CLO_TENDENCY1M', 'TURNOVER_CC',\n",
    "           'CNT_TRAN_ATM_TENDENCY3M', 'CNT_TRAN_AUT_TENDENCY1M', 'CNT_TRAN_AUT_TENDENCY3M',\n",
    "            'CNT_TRAN_MED_TENDENCY1M', 'CNT_TRAN_MED_TENDENCY3M', 'CNT_TRAN_SUP_TENDENCY1M',\n",
    "           'CNT_TRAN_SUP_TENDENCY3M', 'CR_PROD_CNT_CC', 'CR_PROD_CNT_IL', 'CR_PROD_CNT_PIL', 'CR_PROD_CNT_TOVR',\n",
    "           'CR_PROD_CNT_VCU', 'DEAL_GRACE_DAYS_ACC_AVG', 'DEAL_GRACE_DAYS_ACC_MAX', 'DEAL_GRACE_DAYS_ACC_S1X1', \n",
    "           'DEAL_YQZ_IR_MAX', 'DEAL_YQZ_IR_MIN',\n",
    " 'DEAL_YWZ_IR_MIN',\n",
    " 'LDEAL_ACT_DAYS_ACC_PCT_AVG',\n",
    " 'LDEAL_ACT_DAYS_PCT_CURR',\n",
    " 'LDEAL_ACT_DAYS_PCT_TR',\n",
    " 'LDEAL_ACT_DAYS_PCT_TR3',\n",
    " 'LDEAL_AMT_MONTH',\n",
    " 'LDEAL_DELINQ_PER_MAXYQZ',\n",
    " 'LDEAL_DELINQ_PER_MAXYWZ',\n",
    " 'LDEAL_GRACE_DAYS_PCT_MED',\n",
    " 'LDEAL_TENOR_MAX',\n",
    " 'LDEAL_TENOR_MIN',\n",
    " 'LDEAL_USED_AMT_AVG_YQZ',\n",
    " 'LDEAL_USED_AMT_AVG_YWZ',\n",
    " 'LDEAL_YQZ_CHRG',\n",
    " 'LDEAL_YQZ_COM',\n",
    " 'LDEAL_YQZ_PC',\n",
    " 'MAX_PCLOSE_DATE',\n",
    " 'MED_DEBT_PRC_YQZ',\n",
    " 'MED_DEBT_PRC_YWZ',\n",
    " 'PRC_ACCEPTS_TK',\n",
    " 'REST_DYNAMIC_CC_1M',\n",
    " 'REST_DYNAMIC_CUR_3M',\n",
    " 'REST_DYNAMIC_FDEP_1M',\n",
    " 'REST_DYNAMIC_FDEP_3M',\n",
    " 'REST_DYNAMIC_IL_3M',\n",
    " 'REST_DYNAMIC_PAYM_3M',\n",
    " 'SUM_TRAN_ATM_TENDENCY3M',\n",
    " 'SUM_TRAN_AUT_TENDENCY1M',\n",
    " 'SUM_TRAN_AUT_TENDENCY3M',\n",
    " 'SUM_TRAN_CLO_TENDENCY1M',\n",
    " 'SUM_TRAN_CLO_TENDENCY3M',\n",
    " 'SUM_TRAN_MED_TENDENCY3M',\n",
    " 'SUM_TRAN_SUP_TENDENCY3M',\n",
    " 'TRANS_CNT_TENDENCY3M',\n",
    " 'TRANS_COUNT_ATM_PRC',\n",
    " 'TRANS_COUNT_NAS_PRC',\n",
    " 'TRANS_COUNT_SUP_PRC',\n",
    " 'TURNOVER_DYNAMIC_CC_1M',\n",
    " 'TURNOVER_DYNAMIC_PAYM_1M',\n",
    " 'TURNOVER_DYNAMIC_PAYM_3M',\n",
    " 'TURNOVER_PAYM', 'REST_DYNAMIC_CC_3M', 'TURNOVER_CC',\n",
    " 'APP_DRIVING_LICENSE', 'SUM_TRAN_MED_TENDENCY1M',\n",
    " 'TRANS_AMOUNT_TENDENCY3M',\n",
    " 'REST_DYNAMIC_SAVE_3M',\n",
    " 'AMOUNT_RUB_NAS_PRC',\n",
    " 'LDEAL_ACT_DAYS_PCT_TR4', 'CR_PROD_CNT_CCFP']\n"
   ]
  },
  {
   "cell_type": "markdown",
   "metadata": {},
   "source": [
    "%%time\n",
    "df = pd.get_dummies(df.drop(not_imp, axis=1))#.drop('CLNT_JOB_POSITION', axis=1))#.drop(category, axis=1))\n",
    "df.shape"
   ]
  },
  {
   "cell_type": "code",
   "execution_count": null,
   "metadata": {},
   "outputs": [],
   "source": [
    "df.describe(include=[object])"
   ]
  },
  {
   "cell_type": "code",
   "execution_count": null,
   "metadata": {},
   "outputs": [],
   "source": [
    "#df.drop(not_important,  axis=1, inplace=True)\n",
    "X  = pd.get_dummies(df.drop(not_imp, axis=1).drop('TARGET', axis=1), drop_first=True).values\n",
    "sc = StandardScaler()\n",
    "X = sc.fit_transform(X)\n",
    "y = df['TARGET'].to_numpy()\n",
    "X_train, X_test, y_train, y_test = train_test_split(X, y, test_size=0.20, stratify=y, random_state=42)"
   ]
  },
  {
   "cell_type": "code",
   "execution_count": null,
   "metadata": {},
   "outputs": [],
   "source": [
    "%%time\n",
    "#rf = RandomForestClassifier(random_state=42)\n",
    "rf = RandomForestClassifier(n_estimators=51, max_depth=24, class_weight='balanced_subsample', n_jobs=-1, random_state=42,\n",
    "                           min_samples_leaf=13, min_samples_split=162)\n",
    "rf.fit(X_train, y_train)\n",
    "roc_auc_score(y_test, rf.predict(X_test)) #0.7355830457619096 0.7354541023605872 0.7355947492192749, 0.7358521616827666\n",
    "#0.7337170299839584 0.7349149655645675 0.7358463755400841 0.7367887337402368"
   ]
  },
  {
   "cell_type": "code",
   "execution_count": null,
   "metadata": {},
   "outputs": [],
   "source": [
    "proba = pd.DataFrame(rf.predict_proba(X)[:,1], columns={'proba'})\n",
    "proba['predict'] = rf.predict(X)\n",
    "proba['y'] = y"
   ]
  },
  {
   "cell_type": "code",
   "execution_count": null,
   "metadata": {},
   "outputs": [],
   "source": [
    "proba['diff'] = proba['predict'].astype(int) + proba['y'].astype(int)"
   ]
  },
  {
   "cell_type": "code",
   "execution_count": null,
   "metadata": {},
   "outputs": [],
   "source": [
    "proba[(proba['diff'] == 1)].sort_values('proba')"
   ]
  },
  {
   "cell_type": "code",
   "execution_count": null,
   "metadata": {},
   "outputs": [],
   "source": [
    "roc_auc_score(y, rf.predict(X))"
   ]
  },
  {
   "cell_type": "code",
   "execution_count": null,
   "metadata": {},
   "outputs": [],
   "source": [
    "proba[(proba['diff'] == 1)].median()"
   ]
  },
  {
   "cell_type": "code",
   "execution_count": null,
   "metadata": {},
   "outputs": [],
   "source": [
    "plt.boxplot(proba[(proba['diff'] == 1)]['proba'].values);"
   ]
  },
  {
   "cell_type": "code",
   "execution_count": null,
   "metadata": {},
   "outputs": [],
   "source": [
    "y"
   ]
  },
  {
   "cell_type": "code",
   "execution_count": null,
   "metadata": {},
   "outputs": [],
   "source": [
    "def calc_score(df, max_depth=10, n_estimators=55, min_samples_leaf=10, min_samples_split=270, random_state=21): #10,270\n",
    "    X  = pd.get_dummies(df.drop('TARGET', axis=1), drop_first=True).values\n",
    "    X = StandardScaler().fit_transform(X)\n",
    "    y = df['TARGET'].values\n",
    "    X_train, X_test, y_train, y_test = train_test_split(X, y, test_size=0.20, stratify=y, random_state=random_state)\n",
    "    rf = RandomForestClassifier(n_estimators=n_estimators, \n",
    "                                max_depth=max_depth, \n",
    "                                class_weight='balanced_subsample', \n",
    "                                n_jobs=-1,\n",
    "                                random_state=random_state)#, \n",
    "                                #min_samples_leaf=min_samples_leaf, \n",
    "                                #min_samples_split=min_samples_split)\n",
    "    \n",
    "    rf.fit(X_train, y_train)\n",
    "    return roc_auc_score(y_test, rf.predict(X_test)) "
   ]
  },
  {
   "cell_type": "code",
   "execution_count": null,
   "metadata": {},
   "outputs": [],
   "source": [
    "def drop_feature():\n",
    "    max_auc = 0.0\n",
    "    features = list(df.drop(not_imp, axis=1).drop('TARGET', axis=1).columns)\n",
    "    while len(features) > 1:\n",
    "        i = features.pop()   \n",
    "        curr_auc = calc_score_2(df.drop(not_imp + [i],  axis=1))   \n",
    "        if curr_auc > max_auc:\n",
    "            print('drop', i, round(curr_auc, 4))\n",
    "            max_auc = curr_auc\n",
    "            worst_feature = i\n",
    "    return worst_feature, max_auc"
   ]
  },
  {
   "cell_type": "code",
   "execution_count": null,
   "metadata": {},
   "outputs": [],
   "source": [
    "def add_feature():\n",
    "    max_auc = 0.0\n",
    "    features = not_imp.copy()\n",
    "    while len(features) > 1:\n",
    "        i = features.pop()   \n",
    "        curr_auc = calc_score_2(df.drop(list(set(not_imp) - set(i)),  axis=1))   \n",
    "        if curr_auc > max_auc:\n",
    "            print('add', i, round(curr_auc, 4))\n",
    "            max_auc = curr_auc\n",
    "            best_feature = i\n",
    "    return best_feature, max_auc"
   ]
  },
  {
   "cell_type": "code",
   "execution_count": null,
   "metadata": {},
   "outputs": [],
   "source": [
    "calc_score(df)"
   ]
  },
  {
   "cell_type": "code",
   "execution_count": null,
   "metadata": {},
   "outputs": [],
   "source": [
    "calc_score(df.drop(not_imp, axis=1))"
   ]
  },
  {
   "cell_type": "code",
   "execution_count": null,
   "metadata": {},
   "outputs": [],
   "source": [
    "df.drop(not_imp, axis=1).corr()"
   ]
  },
  {
   "cell_type": "code",
   "execution_count": null,
   "metadata": {},
   "outputs": [],
   "source": [
    "df.drop(not_imp, axis=1)"
   ]
  },
  {
   "cell_type": "code",
   "execution_count": null,
   "metadata": {},
   "outputs": [],
   "source": [
    "score = [] #0.7611\n",
    "for i in range(1, 20):\n",
    "    score.append([i, calc_score(df.drop(not_imp, axis=1), max_depth=i)])\n",
    "    print(score[-1])\n",
    "pd.DataFrame(score).set_index(0).plot(figsize=(20,10), grid=True)"
   ]
  },
  {
   "cell_type": "code",
   "execution_count": null,
   "metadata": {},
   "outputs": [],
   "source": [
    "def calc_score_2(df, random_state=21):\n",
    "    X  = pd.get_dummies(df.drop('TARGET', axis=1), drop_first=True).values\n",
    "    X = StandardScaler().fit_transform(X)\n",
    "    y = df['TARGET'].values\n",
    "    #X_train, X_test, y_train, y_test = train_test_split(X, y, test_size=0.20, stratify=y, random_state=random_state)\n",
    "    rf = RandomForestClassifier(random_state=random_state, class_weight='balanced_subsample', n_jobs=-1)\n",
    "    param_grid={'n_estimators': range(50, 101, 10),\n",
    "                'max_depth': range(4, 21, 2)}\n",
    "    grid = GridSearchCV(estimator=rf, param_grid=param_grid, cv=5, scoring='roc_auc')\n",
    "    grid.fit(X, y)\n",
    "    print(grid.best_params_)\n",
    "    return roc_auc_score(y_test, grid.predict(X_test))"
   ]
  },
  {
   "cell_type": "code",
   "execution_count": null,
   "metadata": {},
   "outputs": [],
   "source": [
    "%%time\n",
    "calc_score_2(df.drop(not_imp, axis=1))"
   ]
  },
  {
   "cell_type": "code",
   "execution_count": null,
   "metadata": {},
   "outputs": [],
   "source": [
    "%%time\n",
    "calc_score_2(df.drop(not_imp, axis=1))"
   ]
  },
  {
   "cell_type": "code",
   "execution_count": null,
   "metadata": {},
   "outputs": [],
   "source": [
    "pd.DataFrame(score).sort_values(1)"
   ]
  },
  {
   "cell_type": "code",
   "execution_count": null,
   "metadata": {},
   "outputs": [],
   "source": [
    "pd.DataFrame(score).set_index(0).plot(figsize=(20,10), grid=True)"
   ]
  },
  {
   "cell_type": "code",
   "execution_count": null,
   "metadata": {},
   "outputs": [],
   "source": [
    "%%time\n",
    "scores = []\n",
    "features = []\n",
    "while (len(df.columns)) > 3:\n",
    "    worst, drop_score = drop_feature()\n",
    "    best, add_score = add_feature()    \n",
    "    if drop_score >  add_score or (len(features) > 0 and features[-1] == best):\n",
    "        scores.append(drop_score)\n",
    "        not_imp.append(worst)\n",
    "        features.append(worst)\n",
    "        print('------------------------')\n",
    "        print('delete', worst, drop_score)\n",
    "        print('------------------------')\n",
    "    else:\n",
    "        scores.append(add_score)\n",
    "        not_imp.remove(best)\n",
    "        features.append(best)\n",
    "        print('------------------------')\n",
    "        print('append', best, add_score)\n",
    "        print('------------------------')"
   ]
  },
  {
   "cell_type": "code",
   "execution_count": null,
   "metadata": {},
   "outputs": [],
   "source": []
  },
  {
   "cell_type": "code",
   "execution_count": null,
   "metadata": {},
   "outputs": [],
   "source": [
    "features"
   ]
  },
  {
   "cell_type": "raw",
   "metadata": {},
   "source": [
    "append DEAL_YWZ_IR_MAX 0.7641487154471752"
   ]
  },
  {
   "cell_type": "code",
   "execution_count": null,
   "metadata": {},
   "outputs": [],
   "source": [
    "pd.DataFrame(scores, features).plot(figsize=(15,5))"
   ]
  },
  {
   "cell_type": "code",
   "execution_count": null,
   "metadata": {},
   "outputs": [],
   "source": [
    "pd.DataFrame(scores, features)"
   ]
  },
  {
   "cell_type": "raw",
   "metadata": {},
   "source": [
    "%%time\n",
    "scores = []\n",
    "not_important = [] + not_imp + ['CLNT_JOB_POSITION']\n",
    "while len(df.drop(not_important,  axis=1).drop('TARGET', axis=1).columns) > 1:\n",
    "    max_auc = 0.0\n",
    "    for i in df.drop(not_important,  axis=1).drop('TARGET', axis=1).columns:\n",
    "        X  = pd.get_dummies(df.drop(not_important,  axis=1).drop('TARGET', axis=1).drop(i, axis=1)).to_numpy()\n",
    "        X = StandardScaler().fit_transform(X)\n",
    "        y = df['TARGET'].to_numpy()\n",
    "        X_train, X_test, y_train, y_test = train_test_split(X, y, test_size=0.20, stratify=y, random_state=42)\n",
    "        rf = RandomForestClassifier(n_estimators=100, max_depth=10, class_weight='balanced_subsample', n_jobs=-1,\n",
    "                                    random_state=42)#min_samples_leaf=7, min_samples_split=2, \n",
    "        rf.fit(X_train, y_train)\n",
    "        curr_auc = roc_auc_score(y_test, rf.predict(X_test)) \n",
    "        #print('curr_auc', round(curr_auc, 4), i)\n",
    "        if curr_auc > max_auc:\n",
    "            print(i, round(curr_auc, 4))\n",
    "            max_auc = curr_auc\n",
    "            worst_feature = i\n",
    "    scores.append(max_auc)\n",
    "    not_important.append(worst_feature)\n",
    "    print(not_important)"
   ]
  },
  {
   "cell_type": "code",
   "execution_count": null,
   "metadata": {},
   "outputs": [],
   "source": [
    "df_scores = pd.DataFrame(scores, important, columns={\"scores\"} )\n",
    "df_scores.plot(figsize=(15,5), rot=90);"
   ]
  },
  {
   "cell_type": "code",
   "execution_count": null,
   "metadata": {},
   "outputs": [],
   "source": [
    "df"
   ]
  },
  {
   "cell_type": "raw",
   "metadata": {},
   "source": [
    "%%time\n",
    "X  = df.drop('TARGET', axis=1).to_numpy()\n",
    "X = StandardScaler().fit_transform(X)\n",
    "y = df['TARGET'].to_numpy()\n",
    "X_train, X_test, y_train, y_test = train_test_split(X, y, test_size=0.20, stratify=y)\n",
    "rf = RandomForestClassifier(n_estimators=100, max_depth=10, class_weight='balanced_subsample', n_jobs=-1)#min_samples_leaf=7, min_samples_split=2, \n",
    "rf.fit(X_train, y_train)\n",
    "roc_auc_score(y_test, rf.predict(X_test)) "
   ]
  },
  {
   "cell_type": "raw",
   "metadata": {},
   "source": [
    "df_scores.to_csv(\"scores.csv\")"
   ]
  },
  {
   "cell_type": "markdown",
   "metadata": {},
   "source": [
    "df.drop(not_imp,  axis=1).drop('TARGET', axis=1)"
   ]
  },
  {
   "cell_type": "code",
   "execution_count": null,
   "metadata": {},
   "outputs": [],
   "source": [
    "curr_auc"
   ]
  },
  {
   "cell_type": "code",
   "execution_count": null,
   "metadata": {},
   "outputs": [],
   "source": [
    "df_scores.sort_values(\"scores\")"
   ]
  },
  {
   "cell_type": "code",
   "execution_count": null,
   "metadata": {},
   "outputs": [],
   "source": [
    "not_important"
   ]
  },
  {
   "cell_type": "code",
   "execution_count": null,
   "metadata": {},
   "outputs": [],
   "source": [
    "scores"
   ]
  },
  {
   "cell_type": "raw",
   "metadata": {},
   "source": [
    "'CLNT_SETUP_TENOR', 'TURNOVER_DYNAMIC_IL_3M' 0.7530484266885784 "
   ]
  },
  {
   "cell_type": "raw",
   "metadata": {},
   "source": [
    "['LDEAL_GRACE_DAYS_PCT_MED', 'REST_DYNAMIC_FDEP_3M', 'AMOUNT_RUB_NAS_PRC'] 0.7398"
   ]
  },
  {
   "cell_type": "code",
   "execution_count": null,
   "metadata": {},
   "outputs": [],
   "source": [
    "set(['LDEAL_GRACE_DAYS_PCT_MED',\n",
    " 'REST_DYNAMIC_FDEP_3M',\n",
    " 'AMOUNT_RUB_NAS_PRC',\n",
    " 'AMOUNT_RUB_NAS_PRC'])"
   ]
  },
  {
   "cell_type": "raw",
   "metadata": {},
   "source": [
    "%%time\n",
    "rf = RandomForestClassifier(random_state=42, class_weight='balanced_subsample', n_jobs=-1)\n",
    "param_grid={'n_estimators': range(50, 101, 10),\n",
    "            #'criterion': ['gini', 'entropy'],\n",
    "            'max_depth': range(4, 21, 2)},\n",
    "            #'min_samples_split': range(2, 4, 1),\n",
    "            #'min_samples_leaf': range(6, 9, 1)}\n",
    "            #'max_features': ['auto', 'log2', 'sqrt']}\n",
    "grid = GridSearchCV(estimator=rf, param_grid=param_grid, cv=5, scoring='roc_auc')\n",
    "grid.fit(X, y)\n",
    "print(roc_auc_score(y_test, grid.predict(X_test)))\n",
    "grid.best_params_"
   ]
  },
  {
   "cell_type": "raw",
   "metadata": {},
   "source": [
    "%%time\n",
    "xgb_clf = xgb.XGBClassifier()\n",
    "xgb_clf.fit(X_train, y_train)\n",
    "roc_auc_score(y_test, xgb_clf.predict(X_test))"
   ]
  },
  {
   "cell_type": "code",
   "execution_count": null,
   "metadata": {},
   "outputs": [],
   "source": [
    "%%time\n",
    "estimator = RandomForestClassifier(verbose=True)\n",
    "selector = RFE(estimator, n_features_to_select=10)\n",
    "selector.fit(X_train, y_train)\n",
    "roc_auc_score(y_test, selector.predict(X_test))"
   ]
  },
  {
   "cell_type": "code",
   "execution_count": null,
   "metadata": {},
   "outputs": [],
   "source": [
    "corr[(corr['value'] > 0.5)]"
   ]
  },
  {
   "cell_type": "code",
   "execution_count": null,
   "metadata": {},
   "outputs": [],
   "source": [
    "coef = pd.DataFrame()\n",
    "coef[\"feature\"] = df.drop(\"TARGET\", axis=1).columns\n",
    "coef[\"rf_coef\"] = np.abs(rf.feature_importances_)\n",
    "#coef[\"lasso_coef\"] = np.abs(lasso.coef_)\n",
    "\n",
    "#coef['ridge'] = np.abs(ridge.coef_)\n",
    "#coef['xgb_coef'] = np.abs(xgb_clf.feature_importances_)\n",
    "#coef['ranking'] = selector.ranking_\n",
    "#coef['support'] = selector.support_\n",
    "coef.sort_values(\"rf_coef\", ascending=False, inplace=True)\n",
    "#coef[(coef[\"rf_coef\"] > 0.01) | (coef[\"xgb_coef\"] > 0)]\n",
    "coef"
   ]
  },
  {
   "cell_type": "code",
   "execution_count": null,
   "metadata": {},
   "outputs": [],
   "source": [
    "coef = pd.DataFrame()\n",
    "coef[\"feature\"] = df.drop(\"TARGET\", axis=1).columns\n",
    "coef[\"rf_coef\"] = np.abs(grid.feature_importances_)\n",
    "#coef[\"lasso_coef\"] = np.abs(lasso.coef_)\n",
    "\n",
    "#coef['ridge'] = np.abs(ridge.coef_)\n",
    "#coef['xgb_coef'] = np.abs(xgb_clf.feature_importances_)\n",
    "#coef['ranking'] = selector.ranking_\n",
    "#coef['support'] = selector.support_\n",
    "coef.sort_values(\"rf_coef\", ascending=False, inplace=True)\n",
    "#coef[(coef[\"rf_coef\"] > 0.01) | (coef[\"xgb_coef\"] > 0)]\n",
    "coef"
   ]
  },
  {
   "cell_type": "code",
   "execution_count": null,
   "metadata": {},
   "outputs": [],
   "source": []
  },
  {
   "cell_type": "raw",
   "metadata": {},
   "source": [
    "ros = RandomOverSampler(sampling_strategy=1.)\n",
    "X_train, y_train = ros.fit_resample(X_train, y_train)"
   ]
  },
  {
   "cell_type": "raw",
   "metadata": {},
   "source": [
    "%%time\n",
    "gbc = GradientBoostingClassifier()\n",
    "gbc.fit(X_train, y_train)"
   ]
  },
  {
   "cell_type": "raw",
   "metadata": {},
   "source": [
    "roc_auc_score(y_test, gbc.predict(X_test))"
   ]
  },
  {
   "cell_type": "raw",
   "metadata": {},
   "source": []
  },
  {
   "cell_type": "raw",
   "metadata": {},
   "source": []
  },
  {
   "cell_type": "code",
   "execution_count": null,
   "metadata": {},
   "outputs": [],
   "source": [
    "import winsound\n",
    "frequency = 2500  # Set Frequency To 2500 Hertz\n",
    "duration = 1000  # Set Duration To 1000 ms == 1 second\n",
    "winsound.Beep(frequency, duration)"
   ]
  },
  {
   "cell_type": "raw",
   "metadata": {},
   "source": [
    "%%time\n",
    "svc = SVC()\n",
    "svc.fit(X_train, y_train)\n",
    "roc_auc_score(y_test, svc.predict(X_test))"
   ]
  },
  {
   "cell_type": "raw",
   "metadata": {},
   "source": [
    "svc.coef_"
   ]
  },
  {
   "cell_type": "raw",
   "metadata": {},
   "source": [
    "df[coef[coef[\"coef\"] > 0].feature.values].corr()"
   ]
  },
  {
   "cell_type": "markdown",
   "metadata": {},
   "source": [
    "pip install seglearn"
   ]
  },
  {
   "cell_type": "raw",
   "metadata": {},
   "source": [
    "rf_clf = RandomForestClassifier(random_state=42)\n",
    "param_grid={'n_estimators': range(100, 200, 100),\n",
    "            'criterion': ['gini', 'entropy'],\n",
    "            'max_depth': [3, 4, 5, 6, 7, 8, 9, 10, None],\n",
    "            #'min_samples_split': range(2, 10),\n",
    "            #'min_samples_leaf': range(1, 10),\n",
    "            'max_features': ['auto', 'log2', 'sqrt']}"
   ]
  },
  {
   "cell_type": "raw",
   "metadata": {},
   "source": [
    "%%time\n",
    "clf = BaggingClassifier(base_estimator=rf_clf, n_estimators=100, random_state=42).fit(X_train, y_train)\n",
    "roc_auc_score(y_test, clf.predict(X_test))"
   ]
  },
  {
   "cell_type": "raw",
   "metadata": {},
   "source": [
    "%%time\n",
    "searcher = GridSearchCV(estimator=rf_clf, param_grid=param_grid, cv=5, scoring='roc_auc')\n",
    "searcher.fit(X_train, y_train) #Wall time: 1h 7min 55s"
   ]
  },
  {
   "cell_type": "raw",
   "metadata": {},
   "source": [
    "searcher.best_params_ #{'criterion': 'entropy', 'max_features': 'auto', 'n_estimators': 100}"
   ]
  },
  {
   "cell_type": "raw",
   "metadata": {},
   "source": [
    "roc_auc_score(y_test, searcher.predict(X_test)), accuracy_score(y_test, searcher.predict(X_test))"
   ]
  },
  {
   "cell_type": "raw",
   "metadata": {},
   "source": [
    "%%time\n",
    "rf = BalancedRandomForestClassifier(n_estimators=300, n_jobs=-1)\n",
    "rf.fit(X_train, y_train)\n",
    "roc_auc_score(y_train, rf.predict(X_train)), roc_auc_score(y_test, rf.predict(X_test))"
   ]
  },
  {
   "cell_type": "raw",
   "metadata": {},
   "source": [
    "%%time\n",
    "ml_clf = MLPClassifier(random_state=42).fit(X_train, y_train)\n",
    "roc_auc_score(y_test, ml_clf.predict(X_test)), accuracy_score(y_test, ml_clf.predict(X_test))"
   ]
  },
  {
   "cell_type": "raw",
   "metadata": {},
   "source": [
    "test = pd.read_csv('data/bank_data_test.csv')"
   ]
  },
  {
   "cell_type": "raw",
   "metadata": {},
   "source": [
    "df_not_null = test.notnull().sum().div(len(test)).sort_values(0, ascending=False)\n",
    "df_not_null.plot(kind='bar', figsize=(20,5), title='Features with not null values');"
   ]
  },
  {
   "cell_type": "raw",
   "metadata": {},
   "source": [
    "test.isnull().all()"
   ]
  }
 ],
 "metadata": {
  "kernelspec": {
   "display_name": "Python 3",
   "language": "python",
   "name": "python3"
  },
  "language_info": {
   "codemirror_mode": {
    "name": "ipython",
    "version": 3
   },
   "file_extension": ".py",
   "mimetype": "text/x-python",
   "name": "python",
   "nbconvert_exporter": "python",
   "pygments_lexer": "ipython3",
   "version": "3.8.5"
  }
 },
 "nbformat": 4,
 "nbformat_minor": 4
}
